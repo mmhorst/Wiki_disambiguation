{
 "cells": [
  {
   "cell_type": "code",
   "execution_count": 1,
   "metadata": {},
   "outputs": [],
   "source": [
    "import wikipedia, re, nltk\n",
    "from ipynb.fs.full.MakeModels import create_models\n",
    "from wikipedia.exceptions import DisambiguationError as diserr"
   ]
  },
  {
   "cell_type": "code",
   "execution_count": 2,
   "metadata": {},
   "outputs": [],
   "source": [
    "# gets the name(s) from a search query\n",
    "# returns a list of page titles (tidals)\n",
    "def get_pages(query):\n",
    "    try:\n",
    "        tidal = wikipedia.page(query).title\n",
    "        if tidal != query: \n",
    "            tidal_options = wikipedia.search(query)\n",
    "            return tidal_options\n",
    "        else:\n",
    "            return [tidal]\n",
    "    except diserr as tidal:\n",
    "        return tidal.options"
   ]
  },
  {
   "cell_type": "code",
   "execution_count": 3,
   "metadata": {},
   "outputs": [],
   "source": [
    "# gets the probability of a query within a category \n",
    "# returns a probability in form {cateogry:probability}\n",
    "def get_prob(query, category, lang_model):\n",
    "    page = wikipedia.page(query)\n",
    "    content = page.content\n",
    "    pat = re.compile('[^A-Za-z]')\n",
    "    tokens = re.sub(pat, \" \", content).lower().split()\n",
    "    content_words = [token for token in tokens if token not in stops]\n",
    "    overall_prob = 1\n",
    "    model_probs = lang_model[category] \n",
    "    min_prob = min(model_probs.values())\n",
    "    for word in content_words:\n",
    "        word_prob = model_probs.get(word, 1)\n",
    "        overall_prob *= word_prob\n",
    "        \n",
    "    return overall_prob"
   ]
  },
  {
   "cell_type": "code",
   "execution_count": 4,
   "metadata": {},
   "outputs": [],
   "source": [
    "from nltk.corpus import stopwords\n",
    "stops = set(stopwords.words('english'))"
   ]
  },
  {
   "cell_type": "code",
   "execution_count": 5,
   "metadata": {},
   "outputs": [],
   "source": [
    "lang_model = create_models() "
   ]
  },
  {
   "cell_type": "code",
   "execution_count": 6,
   "metadata": {},
   "outputs": [],
   "source": [
    "example_name = \"Jack Johnson\"\n",
    "category = \"Music\""
   ]
  },
  {
   "cell_type": "code",
   "execution_count": 7,
   "metadata": {},
   "outputs": [],
   "source": [
    "possible_pages = get_pages(example_name)"
   ]
  },
  {
   "cell_type": "code",
   "execution_count": null,
   "metadata": {},
   "outputs": [],
   "source": [
    "probs = {}\n",
    "for possible_page in possible_pages:\n",
    "    prob = get_prob(possible_page, category, lang_model)\n",
    "    probs[possible_page] = prob"
   ]
  },
  {
   "cell_type": "code",
   "execution_count": null,
   "metadata": {},
   "outputs": [],
   "source": [
    "probs"
   ]
  },
  {
   "cell_type": "code",
   "execution_count": null,
   "metadata": {},
   "outputs": [],
   "source": [
    "max(probs.values())"
   ]
  },
  {
   "cell_type": "code",
   "execution_count": null,
   "metadata": {},
   "outputs": [],
   "source": []
  }
 ],
 "metadata": {
  "kernelspec": {
   "display_name": "Python 3",
   "language": "python",
   "name": "python3"
  },
  "language_info": {
   "codemirror_mode": {
    "name": "ipython",
    "version": 3
   },
   "file_extension": ".py",
   "mimetype": "text/x-python",
   "name": "python",
   "nbconvert_exporter": "python",
   "pygments_lexer": "ipython3",
   "version": "3.7.4"
  }
 },
 "nbformat": 4,
 "nbformat_minor": 2
}
