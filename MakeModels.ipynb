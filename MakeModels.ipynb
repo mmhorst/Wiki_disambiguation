{
 "cells": [
  {
   "cell_type": "code",
   "execution_count": 3,
   "metadata": {},
   "outputs": [],
   "source": [
    "import wikipedia, re, nltk\n",
    "from nltk.corpus import stopwords"
   ]
  },
  {
   "cell_type": "code",
   "execution_count": 4,
   "metadata": {},
   "outputs": [],
   "source": [
    "def create_models():\n",
    "    cats = \"Sports Politicians Celebrities Influencers Business Music Television\".split()\n",
    "  \n",
    "    # setting up celebrity info\n",
    "    #############################################################\n",
    "    d = {}\n",
    "    d[\"Sports\"] = \"Venus Williams,Babe Ruth,Michael Jordan,Joe Montana,Russell Wilson,Derek Jeter,Wayne Gretzky,Danica Patrick,Kevin Garnett,Roger Federer\".split(\",\")\n",
    "    d[\"Politicians\"] = \"Barack Obama,John McCain,Ruth Bader Ginsburg,Andrea Stewart-Cousins,Barbara Bush,Ted Cruz,Sean Spicer,Condoleeza Rice,Adam Schiff,Thurgood Marshall\".split(\",\")\n",
    "    d[\"Celebrities\"] = \"Brad Pitt,Leonardo DiCaprio,Betty White,Meryl Streep,Maggie Smith,Harrison Ford,Eddie Murphy,Whoopi Goldberg,Robert De Niro,Denzel Washington\".split(\",\")\n",
    "    d[\"Influencers\"] = \"Youtube,Tik Tok,Snap Chat,Instagram\".split(\",\")\n",
    "    d[\"Business\"] = \"ceo,cfo,warren buffet,Steve Jobs,Paul Allen,Kenneth Chenault,Mary Barra, Meg Whitman\".split(\",\")\n",
    "    d[\"Television\"] = \"Alex Trebek,CNN,Fox News,Bob Barker,Stephen Colbert\".split(\",\")\n",
    "    d[\"Music\"] = \"Beyonce,Rolling Stones,Kenny G,Taylor Swift,Rufus Wainwright,Ray Charles,Jaz Z,T Pain\".split(\",\")\n",
    "    ############################################################\n",
    "    # create model of the categories given from dic of dic\n",
    "    # model structure is: {category1 : {word1 : freq, word2 : freq ...}, cateogry2 : {...}...}\n",
    "    # removes stop words\n",
    "    stops = set(stopwords.words('english'))\n",
    "    model = {}\n",
    "    for category in d.keys():\n",
    "        names = d[category]\n",
    "        for name in names:\n",
    "            page = wikipedia.page(name)\n",
    "            content = page.content\n",
    "            pat = re.compile('[^A-Za-z]')\n",
    "            tokens = re.sub(pat, \" \", content).lower().split()\n",
    "            content_words = [token for token in tokens if token not in stops]\n",
    "            for word in content_words:\n",
    "                category_model = model.get(category, {})\n",
    "                category_model[word] = category_model.get(word, 0) + 1\n",
    "                model[category] = category_model\n",
    "    #################################################\n",
    "\n",
    "    #################################################\n",
    "    # removes low freq words, finds total word count for each model\n",
    "    freq_words = {}\n",
    "    total_words = {}\n",
    "    for category in model.keys():\n",
    "        word_freqs = model[category]\n",
    "        temp = {}\n",
    "        some = 0\n",
    "        for word in word_freqs.keys():\n",
    "            if word_freqs[word] > 14:\n",
    "                temp[word] = word_freqs[word]\n",
    "                some += word_freqs[word]\n",
    "        freq_words[category] = temp\n",
    "        total_words[category] = some\n",
    "                    \n",
    "    ###################################################\n",
    "    \n",
    "    ####################################################\n",
    "    # calculates total unigram probabilities for each model, returns probability dictionary\n",
    "    prob_model = {}\n",
    "    for category in model.keys():\n",
    "        word_freqs = model[category]\n",
    "        temp = {}\n",
    "        for word in word_freqs.keys():\n",
    "            temp[word] = word_freqs[word] / total_words[category]\n",
    "        prob_model[category] = temp\n",
    "    return prob_model"
   ]
  },
  {
   "cell_type": "code",
   "execution_count": null,
   "metadata": {},
   "outputs": [],
   "source": []
  }
 ],
 "metadata": {
  "kernelspec": {
   "display_name": "Python 3",
   "language": "python",
   "name": "python3"
  },
  "language_info": {
   "codemirror_mode": {
    "name": "ipython",
    "version": 3
   },
   "file_extension": ".py",
   "mimetype": "text/x-python",
   "name": "python",
   "nbconvert_exporter": "python",
   "pygments_lexer": "ipython3",
   "version": "3.7.4"
  }
 },
 "nbformat": 4,
 "nbformat_minor": 2
}
